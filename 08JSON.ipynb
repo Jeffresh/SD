{
 "metadata": {
  "name": "",
  "signature": "sha256:9330cd13b8f8a82a6468c03c103239ae0e1de6cc3b30c37e173413798f8da4ce"
 },
 "nbformat": 3,
 "nbformat_minor": 0,
 "worksheets": [
  {
   "cells": [
    {
     "cell_type": "heading",
     "level": 1,
     "metadata": {},
     "source": [
      "Trabajando con JSON"
     ]
    },
    {
     "cell_type": "heading",
     "level": 2,
     "metadata": {},
     "source": [
      "\u00bfQue es JSON?\n"
     ]
    },
    {
     "cell_type": "markdown",
     "metadata": {},
     "source": [
      "JSON **(JavaScript Object Notation)** es un formato para el **intercambios de datos**, b\u00e1sicamente JSON describe los datos con una sintaxis dedicada que se usa para identificar y gestionar los datos. JSON naci\u00f3 como una **alternativa a XML**, el f\u00e1cil uso en javascript ha generado un gran numero de seguidores de esta alternativa. Una de las mayores ventajas que tiene el uso de JSON es que puede ser le\u00eddo por cualquier lenguaje de programaci\u00f3n. Por lo tanto, puede ser **usado para el intercambio de informaci\u00f3n entre distintas tecnolog\u00edas**. "
     ]
    },
    {
     "cell_type": "heading",
     "level": 2,
     "metadata": {},
     "source": [
      "Notaci\u00f3n de JSON\n"
     ]
    },
    {
     "cell_type": "markdown",
     "metadata": {},
     "source": [
      "### Nombre/Par Valores\n",
      "Para asignar a un nombre un valor debemos usar los dos puntos **\u2018:\u2019** este separador es el equivalente al igual (\u2018=\u2019) de cualquier lenguaje. "
     ]
    },
    {
     "cell_type": "code",
     "collapsed": false,
     "input": [
      "\"Nombre\" : \"Jos\u00e9 Miguel\""
     ],
     "language": "python",
     "metadata": {},
     "outputs": []
    },
    {
     "cell_type": "markdown",
     "metadata": {},
     "source": [
      "### Valores en JSON\n",
      "Los posibles valores que podemos encontrar en Json son los siguientes:\n",
      "* Un **n\u00famero** (entero o flaot)\n",
      "* Un **string** (entre comillas simples)\n",
      "* Un **booleano** (true o false)\n",
      "* Un **array** (entre corchetes)\n",
      "* Un **objeto** (entre {})\n",
      "* Null\n",
      "\n",
      "Ejemplo de **OBJETO**\n",
      "***\n",
      "{ \"NombreFruta\":\"Manzana\" , \"Cantidad\":20 }\n",
      "\n",
      "\n",
      "\n",
      "Ejemplo de **ARRAYS**\n",
      "***\n",
      "{\"Fruteria\":\n",
      " [\n",
      "  {\"Fruta\":\n",
      "   [\n",
      "    {\"Nombre\":\"Manzana\",\"Cantidad\":10},\n",
      "    {\"Nombre\":\"Pera\",\"Cantidad\":20},\n",
      "    {\"Nombre\":\"Naranja\",\"Cantidad\":30}\n",
      "   ]\n",
      "  },\n",
      "  {\"Verdura\":\n",
      "   [\n",
      "    {\"Nombre\":\"Lechuga\",\"Cantidad\":80},\n",
      "    {\"Nombre\":\"Tomate\",\"Cantidad\":15},\n",
      "    {\"Nombre\":\"Pepino\",\"Cantidad\":50}\n",
      "   ]\n",
      "  }\n",
      " ]\n",
      "}\n",
      "\n",
      "Prueba este array en la [web](http://jsonviewer.stack.hu/) "
     ]
    },
    {
     "cell_type": "heading",
     "level": 2,
     "metadata": {},
     "source": [
      "Codificaci\u00f3n JSON dumps()"
     ]
    },
    {
     "cell_type": "markdown",
     "metadata": {},
     "source": [
      "Convierte objetos Python a JSON"
     ]
    },
    {
     "cell_type": "heading",
     "level": 3,
     "metadata": {},
     "source": [
      "Sintaxis de json.dumps"
     ]
    },
    {
     "cell_type": "markdown",
     "metadata": {},
     "source": [
      "json.dumps(obj, skipkeys=False, ensure_ascii=True, \n",
      "           check_circular=True, allow_nan=True, cls=None, \n",
      "           indent=None, separators=None, encoding='utf-8', \n",
      "           default=None, **kw)"
     ]
    },
    {
     "cell_type": "code",
     "collapsed": false,
     "input": [
      "import json\n",
      " \n",
      "data = {\"Fruteria\": [  {\"Fruta\":   [    {\"Nombre\":\"Manzana\",\"Cantidad\":10.5},    {\"Nombre\":\"Pera\",\"Cantidad\":20},    {\"Nombre\":\"Naranja\",\"Cantidad\":30}   ]  },  {\"Verdura\":   [    {\"Nombre\":\"Lechuga\",\"Cantidad\":80},    {\"Nombre\":\"Tomate\",\"Cantidad\":15},    {\"Nombre\":\"Pepino\",\"Cantidad\":50}   ]  } ]}\n",
      " \n",
      "#Nos imprime en pantalla data como un tipo de dato nativo.\n",
      "print 'DATA:', repr(data)\n",
      "  \n",
      "#Nos devuelve el String con el JSON\n",
      "data_string = json.dumps(data)\n",
      "print '\\nJSON:', data_string\n",
      "\n",
      "#Ahora trabajamos con indent\n",
      "print '\\nJSON con indent:', json.dumps(data, indent = 2)"
     ],
     "language": "python",
     "metadata": {},
     "outputs": [
      {
       "output_type": "stream",
       "stream": "stdout",
       "text": [
        "DATA: {'Fruteria': [{'Fruta': [{'Nombre': 'Manzana', 'Cantidad': 10.5}, {'Nombre': 'Pera', 'Cantidad': 20}, {'Nombre': 'Naranja', 'Cantidad': 30}]}, {'Verdura': [{'Nombre': 'Lechuga', 'Cantidad': 80}, {'Nombre': 'Tomate', 'Cantidad': 15}, {'Nombre': 'Pepino', 'Cantidad': 50}]}]}\n",
        "\n",
        "JSON: {\"Fruteria\": [{\"Fruta\": [{\"Nombre\": \"Manzana\", \"Cantidad\": 10.5}, {\"Nombre\": \"Pera\", \"Cantidad\": 20}, {\"Nombre\": \"Naranja\", \"Cantidad\": 30}]}, {\"Verdura\": [{\"Nombre\": \"Lechuga\", \"Cantidad\": 80}, {\"Nombre\": \"Tomate\", \"Cantidad\": 15}, {\"Nombre\": \"Pepino\", \"Cantidad\": 50}]}]}\n",
        "\n",
        "JSON con indet: {\n",
        "  \"Fruteria\": [\n",
        "    {\n",
        "      \"Fruta\": [\n",
        "        {\n",
        "          \"Nombre\": \"Manzana\", \n",
        "          \"Cantidad\": 10.5\n",
        "        }, \n",
        "        {\n",
        "          \"Nombre\": \"Pera\", \n",
        "          \"Cantidad\": 20\n",
        "        }, \n",
        "        {\n",
        "          \"Nombre\": \"Naranja\", \n",
        "          \"Cantidad\": 30\n",
        "        }\n",
        "      ]\n",
        "    }, \n",
        "    {\n",
        "      \"Verdura\": [\n",
        "        {\n",
        "          \"Nombre\": \"Lechuga\", \n",
        "          \"Cantidad\": 80\n",
        "        }, \n",
        "        {\n",
        "          \"Nombre\": \"Tomate\", \n",
        "          \"Cantidad\": 15\n",
        "        }, \n",
        "        {\n",
        "          \"Nombre\": \"Pepino\", \n",
        "          \"Cantidad\": 50\n",
        "        }\n",
        "      ]\n",
        "    }\n",
        "  ]\n",
        "}\n"
       ]
      }
     ],
     "prompt_number": 40
    },
    {
     "cell_type": "code",
     "collapsed": false,
     "input": [],
     "language": "python",
     "metadata": {},
     "outputs": []
    },
    {
     "cell_type": "heading",
     "level": 2,
     "metadata": {},
     "source": [
      "Decodificar JSON json_loads(String)\n"
     ]
    },
    {
     "cell_type": "markdown",
     "metadata": {},
     "source": [
      "Convertimos un JSON a un objeto Python"
     ]
    },
    {
     "cell_type": "code",
     "collapsed": false,
     "input": [
      "import json\n",
      " \n",
      "data = {\"Fruteria\": [  {\"Fruta\":   [    {\"Nombre\":\"Manzana\",\"Cantidad\":10},    {\"Nombre\":\"Pera\",\"Cantidad\":20},    {\"Nombre\":\"Naranja\",\"Cantidad\":30}   ]  },  {\"Verdura\":   [    {\"Nombre\":\"Lechuga\",\"Cantidad\":80},    {\"Nombre\":\"Tomate\",\"Cantidad\":15},    {\"Nombre\":\"Pepino\",\"Cantidad\":50}   ]  } ]}\n",
      " \n",
      "data_string = json.dumps(data)\n",
      "print 'ENCODED:', data_string\n",
      " \n",
      "print \"\\n\"    \n",
      "decoded = json.loads(data_string)\n",
      "print 'DECODED:', decoded"
     ],
     "language": "python",
     "metadata": {},
     "outputs": [
      {
       "output_type": "stream",
       "stream": "stdout",
       "text": [
        "ENCODED: {\"Fruteria\": [{\"Fruta\": [{\"Nombre\": \"Manzana\", \"Cantidad\": 10}, {\"Nombre\": \"Pera\", \"Cantidad\": 20}, {\"Nombre\": \"Naranja\", \"Cantidad\": 30}]}, {\"Verdura\": [{\"Nombre\": \"Lechuga\", \"Cantidad\": 80}, {\"Nombre\": \"Tomate\", \"Cantidad\": 15}, {\"Nombre\": \"Pepino\", \"Cantidad\": 50}]}]}\n",
        "\n",
        "\n",
        "DECODED: {u'Fruteria': [{u'Fruta': [{u'Nombre': u'Manzana', u'Cantidad': 10}, {u'Nombre': u'Pera', u'Cantidad': 20}, {u'Nombre': u'Naranja', u'Cantidad': 30}]}, {u'Verdura': [{u'Nombre': u'Lechuga', u'Cantidad': 80}, {u'Nombre': u'Tomate', u'Cantidad': 15}, {u'Nombre': u'Pepino', u'Cantidad': 50}]}]}\n"
       ]
      }
     ],
     "prompt_number": 14
    },
    {
     "cell_type": "heading",
     "level": 3,
     "metadata": {},
     "source": [
      "Sintaxis de json_loads()"
     ]
    },
    {
     "cell_type": "markdown",
     "metadata": {},
     "source": [
      "La s\u00edntaxis de loads es la siguiente\n",
      "json.loads(s, encoding=None, cls=None, \n",
      "        object_hook=None, parse_float=None, \n",
      "        parse_int=None, parse_constant=None, \n",
      "        object_pairs_hook=None, **kw)"
     ]
    },
    {
     "cell_type": "code",
     "collapsed": false,
     "input": [
      "from decimal import Decimal\n",
      "json_string='{\"name\":\"Product-1\",\"quantity\":1,\"price\":12.50}'\n",
      "print \"Salida estandar \" + repr(json.loads(json_string))\n",
      "print \"\\n\"\n",
      "print \"Modificado Float \" + repr(json.loads(json_string, parse_float=Decimal))"
     ],
     "language": "python",
     "metadata": {},
     "outputs": [
      {
       "output_type": "stream",
       "stream": "stdout",
       "text": [
        "Salida estandar {u'price': 12.5, u'name': u'Product-1', u'quantity': 1}\n",
        "\n",
        "\n",
        "Modificado Float {u'price': Decimal('12.50'), u'name': u'Product-1', u'quantity': 1}\n"
       ]
      }
     ],
     "prompt_number": 39
    },
    {
     "cell_type": "heading",
     "level": 2,
     "metadata": {},
     "source": [
      "Ejemplo de busqueda de elemento"
     ]
    },
    {
     "cell_type": "code",
     "collapsed": false,
     "input": [
      "import json\n",
      " \n",
      "data = {\"Fruteria\": [  {\"Fruta\":   [    {\"Nombre\":\"Manzana\",\"Cantidad\":10},    {\"Nombre\":\"Pera\",\"Cantidad\":20},    {\"Nombre\":\"Naranja\",\"Cantidad\":30}   ]  },  {\"Verdura\":   [    {\"Nombre\":\"Lechuga\",\"Cantidad\":80},    {\"Nombre\":\"Tomate\",\"Cantidad\":15},    {\"Nombre\":\"Pepino\",\"Cantidad\":50}   ]  } ]}\n",
      " \n",
      "#encoded\n",
      "data_string = json.dumps(data)\n",
      " \n",
      "#Decoded\n",
      "decoded = json.loads(data_string)\n",
      " \n",
      "print \"Tenemos \"+str(decoded[\"Fruteria\"][1][\"Verdura\"][0][\"Cantidad\"])+\" Lechugas.\"\n",
      "print \"Es una \" + (decoded[\"Fruteria\"][1][\"Verdura\"][0][\"Nombre\"])"
     ],
     "language": "python",
     "metadata": {},
     "outputs": [
      {
       "output_type": "stream",
       "stream": "stdout",
       "text": [
        "Tenemos 80 Lechugas.\n",
        "Es una Lechuga\n"
       ]
      }
     ],
     "prompt_number": 19
    },
    {
     "cell_type": "code",
     "collapsed": false,
     "input": [
      "import json\n",
      "obj_json = u'{\"answer\": [42.2], \"abs\": 42}'\n",
      "obj = json.loads(obj_json)\n",
      "print(repr(obj))"
     ],
     "language": "python",
     "metadata": {},
     "outputs": [
      {
       "output_type": "stream",
       "stream": "stdout",
       "text": [
        "{u'answer': [42.2], u'abs': 42}\n"
       ]
      }
     ],
     "prompt_number": 20
    },
    {
     "cell_type": "code",
     "collapsed": false,
     "input": [
      "class User(object):\n",
      "    def __init__(self, name, password):\n",
      "        self.name = name\n",
      "        self.password = password\n",
      "alice = User('Alice A. Adams', 'secret')\n",
      "def jdefault(o):\n",
      "    return o.__dict__\n",
      "print(json.dumps(alice, default=jdefault))"
     ],
     "language": "python",
     "metadata": {},
     "outputs": [
      {
       "output_type": "stream",
       "stream": "stdout",
       "text": [
        "{\"password\": \"secret\", \"name\": \"Alice A. Adams\"}\n"
       ]
      }
     ],
     "prompt_number": 21
    },
    {
     "cell_type": "heading",
     "level": 4,
     "metadata": {},
     "source": []
    },
    {
     "cell_type": "code",
     "collapsed": false,
     "input": [
      "import json\n",
      "\n",
      "# lets start with a python structure and convert it to json string\n",
      "python_object = {'some_text': 'my text',\n",
      "                 'some_number': 12345,\n",
      "                 'null_value': None,\n",
      "             'some_list': [1,2,3]}\n",
      "# here we are converting python object to json string\n",
      "json_string = json.dumps(python_object)\n",
      "print json_string\n",
      "print \"\\n\"\n",
      "# json_string = '{\"some_list\": [1, 2, 3], \"some_text\": \"my text\", \n",
      "#                 \"some_number\": 12345, \"null_value\": null}'\n",
      "# api converts a python dictionary to json object and vice versa\n",
      "# At this point we have a json_string in our hands. Now lets convert it back to pyton structure\n",
      "new_python_object = json.loads(json_string)\n",
      "print new_python_object\n",
      "# new_python_object = {u'some_list': [1, 2, 3], u'some_text': u'my text',\n",
      "#                      u'some_number': 12345, u'null_value': None}"
     ],
     "language": "python",
     "metadata": {},
     "outputs": [
      {
       "output_type": "stream",
       "stream": "stdout",
       "text": [
        "{\"some_list\": [1, 2, 3], \"some_text\": \"my text\", \"some_number\": 12345, \"null_value\": null}\n",
        "\n",
        "\n",
        "{u'some_list': [1, 2, 3], u'some_text': u'my text', u'some_number': 12345, u'null_value': None}\n"
       ]
      }
     ],
     "prompt_number": 26
    },
    {
     "cell_type": "code",
     "collapsed": false,
     "input": [],
     "language": "python",
     "metadata": {},
     "outputs": []
    }
   ],
   "metadata": {}
  }
 ]
}